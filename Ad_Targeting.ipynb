{
  "nbformat": 4,
  "nbformat_minor": 0,
  "metadata": {
    "colab": {
      "provenance": [],
      "gpuType": "V28",
      "collapsed_sections": [
        "duXjuu5Ax1-z",
        "ewuOPh-B4G3e",
        "EnI8JM49YhdR",
        "tm82oLyHY1iz",
        "MToAa4e1hfLQ",
        "J0btW6-xqKjs",
        "f7V_EaFoRmpp",
        "GjA5BzCOSLP8",
        "8Wy82nvSTT1B",
        "E8z7NT2kTxzl",
        "pByEpgO3bYE5",
        "EUmUTS5sbkIw",
        "AIGNkORJcyUQ",
        "71b20669eupt",
        "WhSGTLQKgbso",
        "CG18d2rritB-",
        "DGi1FfyAe9py",
        "KZqBUCUqmFYp"
      ],
      "include_colab_link": true
    },
    "kernelspec": {
      "name": "python3",
      "display_name": "Python 3"
    },
    "language_info": {
      "name": "python"
    },
    "accelerator": "TPU"
  },
  "cells": [
    {
      "cell_type": "markdown",
      "metadata": {
        "id": "view-in-github",
        "colab_type": "text"
      },
      "source": [
        "<a href=\"https://colab.research.google.com/github/Denis060/NSDC-Data-Science-Project-Ad-Targeting/blob/main/Ad_Targeting.ipynb\" target=\"_parent\"><img src=\"https://colab.research.google.com/assets/colab-badge.svg\" alt=\"Open In Colab\"/></a>"
      ]
    },
    {
      "cell_type": "markdown",
      "source": [
        "<h1 align=\"center\">\n",
        "    NSDC Data Science Projects\n",
        "</h1>\n",
        "  \n",
        "<h2 align=\"center\">\n",
        "    Project: Ad Targeting\n",
        "</h2>\n",
        "\n",
        "<h3 align=\"center\">\n",
        "    Name: (insert your name here)\n",
        "</h3>\n",
        "\n",
        "**Description:** This project aims to analyze advertising strategies to understand, and potentially improve, engagement. We'll walk through each step of the data science process, from problem definition to insights and data-driven recommendations."
      ],
      "metadata": {
        "id": "RTUk7S0GxzNv"
      }
    },
    {
      "cell_type": "markdown",
      "source": [
        "\n",
        "\n",
        "---\n",
        "\n"
      ],
      "metadata": {
        "id": "54x92-MIZWN-"
      }
    },
    {
      "cell_type": "markdown",
      "source": [
        "### **Please read before you begin your project**"
      ],
      "metadata": {
        "id": "duXjuu5Ax1-z"
      }
    },
    {
      "cell_type": "markdown",
      "source": [
        "**Instructions: Google Colab Notebooks:**\n",
        "\n",
        "Google Colab is a free cloud service. It is a hosted Jupyter notebook service that requires no setup to use, while providing free access to computing resources. We will be using Google Colab for this project.\n",
        "\n",
        "In order to work within the Google Colab Notebook, **please start by clicking on \"File\" and then \"Save a copy in Drive.\"** This will save a copy of the notebook in your personal Google Drive.\n",
        "\n",
        "Please rename the file to \"Ad Targeting - Your Full Name.\" Once this project is completed, you will be prompted to share your file with the National Student Data Corps (NSDC) Project Leaders.\n",
        "\n",
        "You can now start working on the project. :)"
      ],
      "metadata": {
        "id": "61LS4rsgANK4"
      }
    },
    {
      "cell_type": "markdown",
      "source": [
        "We'll be using Google Colab for this assignment. This is a Python Notebook environment built by Google that's free for everyone and comes with a nice UI out of the box. For a comprehensive guide, see Colab's official guide [here](https://colab.research.google.com/github/prites18/NoteNote/blob/master/Welcome_To_Colaboratory.ipynb).\n",
        "\n",
        "Colab QuickStart:\n",
        "- Notebooks are made up of cells, cells can be either text or code cells. Click the +code or +text button at the top to create a new cell\n",
        "- Text cells use a format called [Markdown](https://www.markdownguide.org/getting-started/). Cheatsheet is available [here](https://www.markdownguide.org/cheat-sheet/)\n",
        "- Python code is run/executed in code cells. You can click the play button at the top left of a code block (sometimes hidden in the square brackets) to run the code in that cell. You an also hit shift+enter to run the cell that is currently selected. There is no concurrency since cells run one at a time but you can queue up multiple cells\n",
        "- Each cell will run code individually but memory is shared across a notebook Runtime. You can think of a Runtime as a code session where everything you create and execute is temporarily stored. This means variables and functions are available between cells if you execute one cell before the other (physical ordering of cells does not matter). This also means that if you delete or change the name of something and re-execute the cell, the old data might still exist in the background. If things aren't making sense, you can always click Runtime -> restart runtime to start over.\n",
        "- Runtimes will persist for a short period of time so you are safe if you lose connection or refresh the page but Google will shutdown a runtime after enough time has past. Everything that was printed out will remain on the page even if the runtime is disconnected\n",
        "- Google's Runtimes come preinstalled with all the core python libraries (math, rand, time, etc) as well as common data analysis libraries (numpy, pandas, scikitlearn, matplotlib). Simply run `import numpy as np` in a code cell to make it available"
      ],
      "metadata": {
        "id": "WHba4I24yBt8"
      }
    },
    {
      "cell_type": "markdown",
      "source": [
        "### **Defining the Problem:**\n",
        "\n",
        "We need to clearly articulate the problem we're trying to solve with our ad analysis. Our goal is to determine the effectiveness of different ad features in driving engagement.\n",
        "\n",
        "Understanding the problem is crucial in any data science project. By defining our objective, we can focus our analysis and ensure that our results are relevant and actionable. In this case, we're looking to understand and improve engagement through targeted advertising."
      ],
      "metadata": {
        "id": "YPw8koBOGznG"
      }
    },
    {
      "cell_type": "markdown",
      "source": [
        "# **Introduction**\n",
        "---\n",
        "\n",
        "In this project, we are working with advertising data from a marketing agency to predict whether a user will click on an advertisement. In the current digital age, online advertising is a major driver of revenue for businesses, but understanding user engagement with ads remains a challenge. This project is particularly relevant in the context of digital marketing, where companies aim to optimize their ad strategies to increase engagement and conversion rates. By applying data science techniques, we can uncover patterns in user behavior that help marketers make data-driven decisions.\n",
        "\n",
        "Throughout the project, participants will engage in several key tasks: data visualization to explore relationships between variables, data preprocessing (such as feature encoding and scaling), and predictive modeling using logistic regression. They will also analyze model performance using metrics like accuracy, precision, recall, and F1-score. The project is designed for individuals with an intermediate understanding of Python, particularly those familiar with libraries like pandas, seaborn, and scikit-learn. By the end of the project, participants will have developed skills in machine learning model development, feature importance analysis, and model evaluation — key competencies for any aspiring data scientist.\n",
        "\n",
        "This field is an active area of research in both academia and industry. For those interested in further exploration, studies on [`user behavior prediction in digital marketing`](https://www.researchgate.net/publication/335149938_Predicting_Consumer_Behaviour_in_Digital_Market_A_Machine_Learning_Approach) and research articles on [`click-through rate (CTR) prediction model`](https://paperswithcode.com/task/click-through-rate-prediction#papers-list) can provide deeper insights into advanced methodologies used in this domain.\n",
        "\n"
      ],
      "metadata": {
        "id": "81bBnH8IyJIQ"
      }
    },
    {
      "cell_type": "markdown",
      "source": [
        "# **Milestone 1: Data Loading and Preprocessing**\n",
        "---"
      ],
      "metadata": {
        "id": "ewuOPh-B4G3e"
      }
    },
    {
      "cell_type": "markdown",
      "source": [
        "**Goal:**\n",
        "Here, we gather the necessary data for our analysis and ensure it's clean and ready for processing.\n",
        "\n"
      ],
      "metadata": {
        "id": "ZsNNzfZWYRDV"
      }
    },
    {
      "cell_type": "markdown",
      "source": [
        "Link to the dataset: [Effective Targetting of Advertisments](https://www.kaggle.com/datasets/hiimanshuagarwal/advertising-ef)\n",
        "\n",
        "\n",
        "The data consists of 10 variables:\n",
        "\n",
        "`'Daily Time Spent on Site'`, `'Age'`, `'Area Income'`, `'Daily Internet Usage'`, `'Ad Topic Line'`, `'City'`, `'Gender'`, `'Country'`, `'Timestamp'` and `'Clicked on Ad'`.\n",
        "\n",
        "The main variable we are interested in is `'Clicked on Ad'`. This variable can have two possible outcomes: 0 and 1 where 0 refers to the case where a user didn't click the advertisement, while 1 refers to the scenario where a user clicks the advertisement."
      ],
      "metadata": {
        "id": "WSd_FSHAQtn4"
      }
    },
    {
      "cell_type": "markdown",
      "source": [
        "### Data Loading\n",
        "Let's load and look at the dataset to better understand what variables we're working with"
      ],
      "metadata": {
        "id": "EnI8JM49YhdR"
      }
    },
    {
      "cell_type": "code",
      "source": [
        "# to avoid the warnings\n",
        "import warnings\n",
        "warnings.filterwarnings(\"ignore\")"
      ],
      "metadata": {
        "id": "BhIIkg5aXQiC"
      },
      "execution_count": null,
      "outputs": []
    },
    {
      "cell_type": "code",
      "source": [
        "# mount google drive to colab in order to load the file from drive\n",
        "from google.colab import drive\n",
        "drive.mount('/content/drive/')"
      ],
      "metadata": {
        "id": "JdOcCfOTXW-_",
        "colab": {
          "base_uri": "https://localhost:8080/"
        },
        "outputId": "9074280c-bf68-43aa-a407-813b6cf28736"
      },
      "execution_count": null,
      "outputs": [
        {
          "output_type": "stream",
          "name": "stdout",
          "text": [
            "Mounted at /content/drive/\n"
          ]
        }
      ]
    },
    {
      "cell_type": "code",
      "source": [
        "# import the libaries\n",
        "import pandas as pd\n",
        "import numpy as np\n",
        "import seaborn as sns\n",
        "import matplotlib.pyplot as plt"
      ],
      "metadata": {
        "id": "ClPPUwoSXaPK"
      },
      "execution_count": null,
      "outputs": []
    },
    {
      "cell_type": "markdown",
      "source": [
        "Begin by loading the dataset using pandas and display the first few rows to get an initial view of the data."
      ],
      "metadata": {
        "id": "8g2dnoXtIzEb"
      }
    },
    {
      "cell_type": "code",
      "source": [
        "# __TODO__: load the data\n",
        "df = pd.read_csv(_______)    #enter the path of the csv file\n",
        "\n",
        "# TODO: print the first five rows of the dataframe df\n",
        "# code here:"
      ],
      "metadata": {
        "id": "1xGyP5wTXe17",
        "collapsed": true
      },
      "execution_count": null,
      "outputs": []
    },
    {
      "cell_type": "markdown",
      "source": [
        "- The `pd.read_csv()` function reads the CSV file and creates a DataFrame, which is a two-dimensional labeled data structure.\n",
        "- By calling `df.head()`, we're displaying the first five rows of the dataset, giving us a quick glimpse of what our data looks like."
      ],
      "metadata": {
        "id": "wePm15OmJFYU"
      }
    },
    {
      "cell_type": "markdown",
      "source": [
        "Use the `info()` method to get a summary of the dataset, including column names, non-null counts, and data types."
      ],
      "metadata": {
        "id": "mZUgr3euJKOT"
      }
    },
    {
      "cell_type": "code",
      "source": [
        "# TODO\n",
        "# code here:"
      ],
      "metadata": {
        "id": "UCJ2eKLgXkdC"
      },
      "execution_count": null,
      "outputs": []
    },
    {
      "cell_type": "markdown",
      "source": [
        "The `df.info()` method provides crucial information about our dataset:\n",
        "- We have 1009 entries (rows) in our dataset.\n",
        "- There are 10 columns, each representing different features of our advertising data.\n",
        "- The data types include float64 (for numerical data with decimals), int64 (for whole numbers), and object (typically used for text or categorical data).\n",
        "- We can see that some columns have missing values, as the non-null counts are less than the total number of entries.\n",
        "\n",
        "**Key observations:**\n",
        "- `'Daily Time Spent on Site'`, `'Age'`, `'Area Income'`, and `'Daily Internet Usage'` are numerical features.\n",
        "- `'Ad Topic Line'`, `'City'`, `'Gender'`, `'Country'`, and `'Timestamp'` are categorical or text features.\n",
        "- `'Clicked on Ad'` is our target variable, represented as an integer (likely 0 for no click and 1 for click).\n",
        "- There are some missing values in `'Age'`, `'Area Income'`, `'City'`, and `'Country'` columns."
      ],
      "metadata": {
        "id": "pUUPhGjyJQ4E"
      }
    },
    {
      "cell_type": "markdown",
      "source": [
        "In classification problems, it's important to check if the target variable is balanced. A balanced dataset means that each class (in this case, `'Clicked on Ad' = 1` and `'Clicked on Ad' = 0`) has approximately the same number of instances. If a dataset is imbalanced, it can bias the model toward predicting the majority class more often, which can lead to poor performance on the minority class."
      ],
      "metadata": {
        "id": "ef4IHP_SQD83"
      }
    },
    {
      "cell_type": "markdown",
      "source": [
        "Understanding the structure and content of our dataset is crucial for further analysis and preprocessing steps. It helps us identify potential issues like missing values and guides our feature engineering and model selection processes."
      ],
      "metadata": {
        "id": "at2opr6kJt06"
      }
    },
    {
      "cell_type": "code",
      "source": [
        "# TODO: checking if we have a balanced dataset\n",
        "# Code here:\n",
        "\n",
        "\n",
        "# (hint: use value_counts())"
      ],
      "metadata": {
        "id": "9AhOvJs0ggGz"
      },
      "execution_count": null,
      "outputs": []
    },
    {
      "cell_type": "markdown",
      "source": [
        "### Handle Missing Values"
      ],
      "metadata": {
        "id": "tm82oLyHY1iz"
      }
    },
    {
      "cell_type": "markdown",
      "source": [
        "**Why Check For Missing Values?**\n",
        "\n",
        "- Identifying missing values is a crucial step in data preprocessing. Missing data can significantly impact our analysis and model performance.\n",
        "- It gives us an idea of the overall quality of our dataset.\n",
        "- Columns with missing values might be less reliable for our analysis.\n",
        "- Knowing which columns have missing values helps us decide on appropriate strategies for handling them. For example:\n",
        "  - For numerical columns like `'Daily Time Spent on Site'` or `'Age'`, we might consider imputing with mean or median values.\n",
        "  - For categorical columns like `'City'` or `'Country'`, we might create a new category for missing values or use the most frequent value.\n",
        "\n",
        "- If certain columns have more missing values than others, it could introduce bias into our analysis. We need to consider why these values are missing and if it's related to our target variable (`'Clicked on Ad'`)\n",
        "\n",
        "Learn about central tendency in detail [here](https://www.youtube.com/watch?v=RHI110MHUCc&list=PLNs9ZO9jGtUDxKBBZa5ImsV9h9hlLwJWH&index=35&pp=gAQBiAQB)."
      ],
      "metadata": {
        "id": "qrs5FBq6KEvW"
      }
    },
    {
      "cell_type": "markdown",
      "source": [
        "Use the `isna()` method combined with `sum()` to count the number of missing values in each column."
      ],
      "metadata": {
        "id": "nfqPb1Q_KlVT"
      }
    },
    {
      "cell_type": "code",
      "source": [
        "## Check for Missing Values\n",
        "\n",
        "# Calculate the number of missing values for each column\n",
        "missing_values = #TODO\n",
        "\n",
        "print(\"Number of missing values per column:\", missing_values)"
      ],
      "metadata": {
        "id": "cZzZI_6zYt2d"
      },
      "execution_count": null,
      "outputs": []
    },
    {
      "cell_type": "markdown",
      "source": [
        "\n",
        "\n",
        "---\n",
        "\n"
      ],
      "metadata": {
        "id": "Gtd_tM2EZUQn"
      }
    },
    {
      "cell_type": "markdown",
      "source": [
        "Now, let's vizualize the missing values per column as a bar graph. Learn about bar graphs [here](https://www.google.com/url?q=https://www.youtube.com/watch?v%3DY_HCxHOy4Sw%26list%3DPLNs9ZO9jGtUDxKBBZa5ImsV9h9hlLwJWH%26index%3D28%26pp%3DgAQBiAQB&sa=D&source=editors&ust=1733322841503749&usg=AOvVaw01PlFyaksZP69knXmIc-fI)."
      ],
      "metadata": {
        "id": "-4v9H7ADWq0u"
      }
    },
    {
      "cell_type": "code",
      "source": [
        "# Plot the missing values as a bar chart\n",
        "plt.figure(figsize=(10, 6))\n",
        "missing_values.plot(kind='bar', color='skyblue')\n",
        "plt.title('_________')\n",
        "plt.xlabel('________')\n",
        "plt.ylabel('________')\n",
        "plt.xticks(rotation=90)\n",
        "plt.show()"
      ],
      "metadata": {
        "id": "POX59xoFdMga"
      },
      "execution_count": null,
      "outputs": []
    },
    {
      "cell_type": "markdown",
      "source": [
        "**Insights:**\n",
        "- The missing values are relatively small compared to the total dataset size (1009 rows), so we can likely handle them without losing significant information.\n",
        "- We will need to decide whether to impute these values or drop rows/columns depending on the importance of these features for our analysis.\n",
        "In the next step, we will explore strategies for handling these missing values, such as imputation or removal."
      ],
      "metadata": {
        "id": "fq24yAMpNosc"
      }
    },
    {
      "cell_type": "markdown",
      "source": [
        "The following bar graph is almost similar to the one above but it includes the values corresponding to the columns. Which one would you prefer and why?\n",
        "\n",
        "> *  Answer here:"
      ],
      "metadata": {
        "id": "VeQd4-f5NyOL"
      }
    },
    {
      "cell_type": "code",
      "source": [
        "# Plot the missing values as a bar chart\n",
        "plt.figure(figsize=(10, 6))\n",
        "bars = plt.bar(missing_values.index, missing_values.values, color='skyblue')\n",
        "\n",
        "# Add text annotations on top of each bar\n",
        "# TODO: code here\n",
        "\n",
        "plt.title('Missing Values in Each Column')\n",
        "plt.xlabel('Columns')\n",
        "plt.ylabel('Number of Missing Values')\n",
        "plt.xticks(rotation=90)\n",
        "plt.show()"
      ],
      "metadata": {
        "id": "o281_QneeBhR"
      },
      "execution_count": null,
      "outputs": []
    },
    {
      "cell_type": "markdown",
      "source": [
        "**Strategy for Handling the Missing Values**\n",
        "\n",
        "Dropping the rows with missing values is not ideal in this case because we do not have enough data. Dropping those rows would lead to a significant loss in information. Instead, we use the following ways to keep that information while dealing with missing values:\n",
        "\n",
        "- **Numerical Columns:** Imputing with the mean - it ensures that we retain all rows while maintaining the overall distribution of the data.\n",
        "- **Categorical Columns:** Filling with 'Unknown' allows us to keep information about rows where location data (`'City'` or `'Country'`) was missing, which could be useful for analysis or modeling.\n"
      ],
      "metadata": {
        "id": "DeNfvBhXOwAg"
      }
    },
    {
      "cell_type": "code",
      "source": [
        "# Fill missing values with mean for the integer columns for simplicity\n",
        "df['Age'].fillna(df['Age'].mean(), inplace=True)\n",
        "\n",
        "# TODO: fill the missing values for other numerical columns with the mean\n",
        "# _____\n",
        "\n",
        "# TODO: fill missing values in City and Country with 'Unknown'\n",
        "# ____"
      ],
      "metadata": {
        "id": "IRAD5XRYY81Z"
      },
      "execution_count": null,
      "outputs": []
    },
    {
      "cell_type": "markdown",
      "source": [
        "After filling in the missing values, check again to ensure that there are no remaining missing values."
      ],
      "metadata": {
        "id": "VrqOY4OiPleF"
      }
    },
    {
      "cell_type": "code",
      "source": [
        "# TODO: check missing values again after filling\n",
        "# _______"
      ],
      "metadata": {
        "id": "cu2FAe0lZb2n"
      },
      "execution_count": null,
      "outputs": []
    },
    {
      "cell_type": "markdown",
      "source": [
        "### Cleaning the dataset"
      ],
      "metadata": {
        "id": "MToAa4e1hfLQ"
      }
    },
    {
      "cell_type": "markdown",
      "source": [
        "Looking at the data, we can see that we need to convert the `Timestamp` column into a more usable format and extract additional features such as `Hour`, `Day`, and `Month`.\n",
        "\n",
        "- The first step is to convert the `Timestamp` column from a `string` format to a proper `datetime` format using `pd.to_datetime()`.\n",
        "- After converting the `Timestamp` column to `datetime`, we can extract the desired features."
      ],
      "metadata": {
        "id": "JtrV-kdCiDxl"
      }
    },
    {
      "cell_type": "code",
      "source": [
        "# Convert 'Timestamp' to datetime\n",
        "df['Timestamp'] = pd.to_datetime(df['Timestamp'])\n",
        "\n",
        "# Extract additional features from 'Timestamp'\n",
        "df['Hour'] = df['_______'].dt.hour\n",
        "df['Day'] = df['Timestamp'].dt.___\n",
        "df['_____'] = df['Timestamp'].dt.month"
      ],
      "metadata": {
        "id": "GFs4hbnJhft3"
      },
      "execution_count": null,
      "outputs": []
    },
    {
      "cell_type": "code",
      "source": [
        "# print head to see the new features\n",
        "df.head()"
      ],
      "metadata": {
        "id": "bvxILWqgikqN"
      },
      "execution_count": null,
      "outputs": []
    },
    {
      "cell_type": "markdown",
      "source": [
        "With this step completed, our dataset is now clean and ready for further analysis!"
      ],
      "metadata": {
        "id": "WYLVtqxuPqSi"
      }
    },
    {
      "cell_type": "markdown",
      "source": [
        "# **Milestone 2: Exploratory Data Visualization**\n",
        "---"
      ],
      "metadata": {
        "id": "J0btW6-xqKjs"
      }
    },
    {
      "cell_type": "markdown",
      "source": [
        "It's time to explore the data visually. Visualizing the data helps us understand patterns, distributions, and relationships between variables. Here is a [data vizualization resource](https://www.youtube.com/playlist?list=PLNs9ZO9jGtUCZ0pzj1OcFN450-COhaWkw)."
      ],
      "metadata": {
        "id": "D6bBT3DMRW1H"
      }
    },
    {
      "cell_type": "markdown",
      "source": [
        "### Age Distribution Histogram\n",
        "Plot a histogram of the `'Age'` column to understand its distribution.\n"
      ],
      "metadata": {
        "id": "f7V_EaFoRmpp"
      }
    },
    {
      "cell_type": "markdown",
      "source": [
        "This visualization is a histogram of the `'Age'` column, which shows how age is distributed across our dataset. Use the `sns.histplot()` function from Seaborn here, with `bins=20` to divide the age range into 20 intervals, and `kde=True` to overlay a Kernel Density Estimate (KDE) curve that smooths out the distribution. Learn more about KDE [here](https://www.geeksforgeeks.org/kde-plot-visualization-with-pandas-and-seaborn/)."
      ],
      "metadata": {
        "id": "kzzKeG9WRx_t"
      }
    },
    {
      "cell_type": "code",
      "source": [
        "# Age Distribution Histogram\n",
        "plt.figure(figsize=(__, __))\n",
        "sns.__\n",
        "plt.title(__)\n",
        "plt.xlabel(__)\n",
        "plt.ylabel(__)\n",
        "plt.show()"
      ],
      "metadata": {
        "id": "Yo47Hv67aGkY"
      },
      "execution_count": null,
      "outputs": []
    },
    {
      "cell_type": "markdown",
      "source": [
        "__TODO__: Write your key insights from the above distribution\n",
        "<br>\n",
        "**Key Insights:**\n",
        "> *  \n",
        "> *  \n",
        "\n",
        "These insights can help us understand which age groups are most represented in our dataset, which could be important when analyzing ad engagement."
      ],
      "metadata": {
        "id": "kqal8YtaSAhn"
      }
    },
    {
      "cell_type": "markdown",
      "source": [
        "### Age vs. Clicked on Ad\n",
        "Use a box plot to visualize how age relates to whether a user clicked on an ad or not. Use `sns.boxplot()`"
      ],
      "metadata": {
        "id": "GjA5BzCOSLP8"
      }
    },
    {
      "cell_type": "code",
      "source": [
        "# Age vs. Clicked on Ad\n",
        "plt.figure(figsize=(_, _))\n",
        "sns.___\n",
        "plt.title(___)\n",
        "plt.xlabel(__)\n",
        "plt.ylabel(__)\n",
        "plt.show()"
      ],
      "metadata": {
        "id": "nsFEisMsaRAV"
      },
      "execution_count": null,
      "outputs": []
    },
    {
      "cell_type": "markdown",
      "source": [
        "The box plot above compares the age distribution between those who clicked on ads and those who didn't."
      ],
      "metadata": {
        "id": "AsiFaUbZad6G"
      }
    },
    {
      "cell_type": "markdown",
      "source": [
        "**TO DO:** What differences do you observe? Could age be a factor in ad engagement?\n",
        "\n",
        "> * Answer here:  "
      ],
      "metadata": {
        "id": "-AWXD3NCSrZj"
      }
    },
    {
      "cell_type": "markdown",
      "source": [
        "Now do the same for Area Income. Create a boxplot for Area Income vs Clicked on Ad"
      ],
      "metadata": {
        "id": "GuM54Ah_iJcW"
      }
    },
    {
      "cell_type": "code",
      "source": [
        "# Area Income vs. Clicked on Ad\n",
        "\n",
        "# TODO: code here"
      ],
      "metadata": {
        "id": "rkOKV46JB9xn"
      },
      "execution_count": null,
      "outputs": []
    },
    {
      "cell_type": "markdown",
      "source": [
        "**TO DO:** What insights do you get from these boxplots and how does it potentially affect the ad targetting decisions?\n",
        "\n",
        ">* Answer here:"
      ],
      "metadata": {
        "id": "ogFphK99ichq"
      }
    },
    {
      "cell_type": "markdown",
      "source": [
        "### Violin Plot for Age and Clicked on Ad\n",
        "Create a violin plot to visualize the distribution of age for users who clicked on ads versus those who did not. Use `sns.violinplot()`."
      ],
      "metadata": {
        "id": "8Wy82nvSTT1B"
      }
    },
    {
      "cell_type": "markdown",
      "source": [
        "The violin plot provides a more detailed view of the distribution of the `'Age'` variable for each category of `'Clicked on Ad'` (`0` = did not click, `1` = clicked). <br><br>\n",
        "Learn more about violin plots [here](https://www.geeksforgeeks.org/violinplot-using-seaborn-in-python/)."
      ],
      "metadata": {
        "id": "_Y2RMjYzTbbc"
      }
    },
    {
      "cell_type": "code",
      "source": [
        "# Violin Plot for Age and Clicked on Ad\n",
        "\n",
        "# TODO\n",
        "sns.___(___, inner='quart')\n",
        "# TODO"
      ],
      "metadata": {
        "id": "-yclQNU2akMp"
      },
      "execution_count": null,
      "outputs": []
    },
    {
      "cell_type": "markdown",
      "source": [
        "\n",
        "The violin plot provides a detailed view of the age distribution for each group."
      ],
      "metadata": {
        "id": "Wmvjla5ta8n_"
      }
    },
    {
      "cell_type": "markdown",
      "source": [
        "**TO DO:** Do you notice any interesting or repeating patterns or outliers?\n",
        "> * Answer here:"
      ],
      "metadata": {
        "id": "fIvxSF6Rxl_C"
      }
    },
    {
      "cell_type": "markdown",
      "source": [
        "**TO DO:** Is violin plot more or less detailed than boxplot? Explain.\n",
        "\n",
        "> * Answer here:\n"
      ],
      "metadata": {
        "id": "Rn0jxvKPTlPC"
      }
    },
    {
      "cell_type": "markdown",
      "source": [
        "### Average Daily Time Spent on Site by Clicked on Ad\n",
        "Create a bar plot to show the average daily time spent on the site for users who clicked on an ad (1) versus those who did not (0)."
      ],
      "metadata": {
        "id": "E8z7NT2kTxzl"
      }
    },
    {
      "cell_type": "code",
      "source": [
        "# Average Daily Time Spent on Site by Clicked on Ad\n",
        "# This chart will show the average daily time spent on the site by whether an ad was clicked.\n",
        "\n",
        "# TODO: code here\n",
        "\n",
        "\n",
        "# (hint: use sns.barplot())"
      ],
      "metadata": {
        "id": "i0VoxMJGbh6E"
      },
      "execution_count": null,
      "outputs": []
    },
    {
      "cell_type": "markdown",
      "source": [
        "**TO DO:** <br>\n",
        "> * Share your key insights here from this bar chart."
      ],
      "metadata": {
        "id": "SY8QBKkoUe0z"
      }
    },
    {
      "cell_type": "markdown",
      "source": [
        "### Stacked Bar Chart of Clicked on Ad by County"
      ],
      "metadata": {
        "id": "pByEpgO3bYE5"
      }
    },
    {
      "cell_type": "code",
      "source": [
        "# Stacked Bar Chart of Clicked on Ad by County\n",
        "# This chart shows the count of ad clicks by city.\n",
        "\n",
        "city_counts = df.groupby(['Country', 'Clicked on Ad']).size().unstack(fill_value=0)\n",
        "city_counts.plot(kind='bar', stacked=True, figsize=(12, 6), colormap='viridis')\n",
        "plt.title('Stacked Bar Chart of Clicked on Ad by Country')\n",
        "plt.xlabel('Country')\n",
        "plt.ylabel('Count')\n",
        "plt.show()"
      ],
      "metadata": {
        "id": "x-q71Qt3bfL_"
      },
      "execution_count": null,
      "outputs": []
    },
    {
      "cell_type": "markdown",
      "source": [
        "**Description:** This stacked bar chart shows the distribution of ad clicks (1 = clicked, 0 = not clicked) across different countries. Each bar represents a country, and the segments within the bars represent the count of users who clicked or did not click on an ad."
      ],
      "metadata": {
        "id": "hlDRogvubu9o"
      }
    },
    {
      "cell_type": "markdown",
      "source": [
        "**Key Insights:**\n",
        "- Ad engagement varies across countries, with some countries showing higher proportions of clicks (yellow segments) compared to others.\n",
        "- The United States has a significantly higher number of users, with both clicked and non-clicked ads being prominent.\n",
        "- However, the **x-axis labels are crowded, making it difficult to read** individual country names. You may want to rotate the labels or filter out countries with fewer data points for better clarity."
      ],
      "metadata": {
        "id": "cAe6aIdcbz8T"
      }
    },
    {
      "cell_type": "markdown",
      "source": [
        "**TO DO:** How would you go about making it a presentable and useful graph?\n",
        "\n",
        "> * Answer here:"
      ],
      "metadata": {
        "id": "83OjOIIuYBts"
      }
    },
    {
      "cell_type": "code",
      "source": [
        "# OPTIONAL TODO: Recreate the graph here to make it more useful!\n",
        "# Code here:\n"
      ],
      "metadata": {
        "id": "7i0iNRKBkWNV"
      },
      "execution_count": null,
      "outputs": []
    },
    {
      "cell_type": "markdown",
      "source": [
        "### Faceted Histogram of Age by Clicked on Ad"
      ],
      "metadata": {
        "id": "EUmUTS5sbkIw"
      }
    },
    {
      "cell_type": "code",
      "source": [
        "# Faceted Histogram of Age by Clicked on Ad\n",
        "# Faceted histograms allow you to compare distributions across different subsets of data.\n",
        "\n",
        "# To identify potential bias in the 'Age' column of your dataset:\n",
        "\n",
        "g = sns.FacetGrid(df, col=\"Clicked on Ad\", height=5, aspect=1)\n",
        "g.map(sns.histplot, \"Age\", bins=20, kde=True)\n",
        "g.set_axis_labels(\"Age\", \"Count\")\n",
        "g.set_titles(\"Clicked on Ad = {col_name}\")\n",
        "g.fig.suptitle('Faceted Histogram of Age by Clicked on Ad', y=1.05)\n",
        "plt.show()"
      ],
      "metadata": {
        "id": "xFgLZgAZbT4F"
      },
      "execution_count": null,
      "outputs": []
    },
    {
      "cell_type": "markdown",
      "source": [
        "**Description:** <br>\n",
        "This faceted histogram shows the distribution of age for users who clicked on an ad (right) versus those who did not (left), with a KDE curve overlay.\n",
        "\n",
        "**TO DO:**\n",
        ">* Share your key insights here"
      ],
      "metadata": {
        "id": "RVz9wxQRcbwx"
      }
    },
    {
      "cell_type": "markdown",
      "source": [
        "Do the same Faceted Histogram of `'Area Income'` by `'Clicked on Ad'`."
      ],
      "metadata": {
        "id": "dH3Z4Gn1kvzp"
      }
    },
    {
      "cell_type": "code",
      "source": [
        "# TODO: code here\n",
        "#"
      ],
      "metadata": {
        "id": "qOxYZK9sAfae"
      },
      "execution_count": null,
      "outputs": []
    },
    {
      "cell_type": "markdown",
      "source": [
        "**TO DO:** <br>\n",
        "> *  Share your key insights here"
      ],
      "metadata": {
        "id": "MB9UuSI3lEW2"
      }
    },
    {
      "cell_type": "markdown",
      "source": [
        "### Correlation Matrix"
      ],
      "metadata": {
        "id": "AIGNkORJcyUQ"
      }
    },
    {
      "cell_type": "code",
      "source": [
        "# Correlation Matrix\n",
        "\n",
        "# get the numerical columns from the dataset\n",
        "num_cols = df.select_dtypes(include=['float64', 'int64']).columns.tolist()\n",
        "\n",
        "plt.figure(figsize=(10, 8))\n",
        "correlation_matrix = df[num_cols].___     # use corr() for getting the correlation matrix\n",
        "\n",
        "sns.heatmap(____, annot=True, fmt=\"___\", cmap='coolwarm', square=True)    # try annot=False and see what difference it makes\n",
        "plt.title('Correlation Matrix')\n",
        "plt.show()"
      ],
      "metadata": {
        "id": "pDU-sEWabkjw"
      },
      "execution_count": null,
      "outputs": []
    },
    {
      "cell_type": "markdown",
      "source": [
        "**Description:**  <br>\n",
        "This heatmap shows the correlation between numerical variables in the dataset, with values ranging from -1 to 1. Positive correlations are shown in red, and negative correlations are shown in blue.\n",
        "\n",
        "**TO DO:** Share 2 key insights here:\n",
        "> *  \n",
        "> *  "
      ],
      "metadata": {
        "id": "nIqVdZGjdFCE"
      }
    },
    {
      "cell_type": "markdown",
      "source": [
        "### Distribution of Daily Internet Usage by Country"
      ],
      "metadata": {
        "id": "71b20669eupt"
      }
    },
    {
      "cell_type": "code",
      "source": [
        "# Distribution of Daily Internet Usage by Country\n",
        "\n",
        "# get the top 10 countries by occurances\n",
        "top_countries = df['Country'].value_counts().nlargest(10).index\n",
        "\n",
        "plt.figure(figsize=(12, 6))\n",
        "plt.boxplot([df[df['Country'] == country]['Daily Internet Usage'] for country in top_countries], labels=top_countries)\n",
        "plt.xlabel('Country')\n",
        "plt.ylabel('Daily Internet Usage')\n",
        "plt.title('Distribution of Daily Internet Usage by Country')\n",
        "____ = plt.xticks(rotation=45, ha='right')"
      ],
      "metadata": {
        "id": "HVdXSf2wb0Os"
      },
      "execution_count": null,
      "outputs": []
    },
    {
      "cell_type": "markdown",
      "source": [
        "**Description:** <br>\n",
        "The box plot shows the distribution of daily internet usage across the top 10 countries with the most data entries in the dataset. Each box represents a country, and the distribution of daily internet usage is visualized through the median (orange line), quartiles, and potential outliers.\n",
        "\n",
        "**Which ones of these insights do you agree with?:**\n",
        "- Countries like Afghanistan and Turkey have a narrower range of daily internet usage, indicating less variation among users in these countries.\n",
        "- Countries like Peru and France have a wider range, with some users having significantly higher daily internet usage.\n",
        "- There are a few outliers in countries like Australia and Czech Republic, where some users have notably lower or higher internet usage compared to the majority."
      ],
      "metadata": {
        "id": "QnqgtlToe2nX"
      }
    },
    {
      "cell_type": "markdown",
      "source": [
        "**TO DO:**\n",
        "> *  Write your answer here and explain why."
      ],
      "metadata": {
        "id": "9bEnkHp3m9KT"
      }
    },
    {
      "cell_type": "markdown",
      "source": [
        "### Historgram for numerical features"
      ],
      "metadata": {
        "id": "WhSGTLQKgbso"
      }
    },
    {
      "cell_type": "code",
      "source": [
        "# Historgram for numerical features\n",
        "\n",
        "sns.set(style=\"whitegrid\")\n",
        "\n",
        "num_cols = df.select_dtypes(include=['float64', 'int64']).columns.tolist()\n",
        "\n",
        "plt.figure(figsize=(15, 10))\n",
        "for i, col in enumerate(num_cols):\n",
        "    plt.subplot(3, 2, i + 1)\n",
        "    sns.histplot(df[col].dropna(), bins=10, kde=True)\n",
        "    plt.title(f'Histogram of {col}')\n",
        "plt.tight_layout()\n",
        "plt.show()"
      ],
      "metadata": {
        "id": "AVa6wXrXbr_y"
      },
      "execution_count": null,
      "outputs": []
    },
    {
      "cell_type": "markdown",
      "source": [
        "**Description:** <br>\n",
        "These histograms display the distributions of various numerical features in the dataset, such as `'Daily Time Spent on Site'`, `'Age'`, `'Area Income'`, `'Daily Internet Usage'`, and `'Clicked on Ad'`. The KDE (Kernel Density Estimate) curves overlay the histograms to provide a smoother view of the distributions. Learn about skewness in histograms [here](https://www.geeksforgeeks.org/skewness-measures-and-interpretation/).\n",
        "\n",
        "**TODO:** Fill in the following blanks:\n",
        "\n",
        "- **Daily Time Spent on Site:** The distribution is slightly `_______`-skewed, with most users spending between `_____` to `____` minutes on the site.\n",
        "- **Age:** The age distribution is `_____`-skewed, with most users falling between `____` to `___` years old.\n",
        "- **Area Income:** The income distribution is bell-shaped, with most users earning between USD `_____` and USD `____` annually.\n",
        "- **Daily Internet Usage:** This feature shows a `______` distribution, with peaks around 125 minutes and 225 minutes.\n",
        "- **Clicked on Ad:** This is a binary variable, with almost equal counts for 0 (did not click) and 1 (clicked), confirming that the dataset is `_________`.\n"
      ],
      "metadata": {
        "id": "WGzVesorfppC"
      }
    },
    {
      "cell_type": "markdown",
      "source": [
        "### Daily Time Spent on Site vs. Daily Internet Usage"
      ],
      "metadata": {
        "id": "CG18d2rritB-"
      }
    },
    {
      "source": [
        "# Daily Time Spent on Site vs. Daily Internet Usage\n",
        "\n",
        "plt.figure(figsize=(10, 6))\n",
        "plt.scatter(x = ___, y = ___, c = ___, cmap='viridis', alpha=0.7)   # TODO: fill the approproate features for x, y, c\n",
        "plt.xlabel('Daily Time Spent on Site')\n",
        "plt.ylabel('Daily Internet Usage')\n",
        "plt.title('Daily Time Spent on Site vs. Daily Internet Usage')\n",
        "_ = plt.colorbar(label='Clicked on Ad')"
      ],
      "cell_type": "code",
      "execution_count": null,
      "outputs": [],
      "metadata": {
        "id": "8ZFSAZqSqtB2"
      }
    },
    {
      "cell_type": "markdown",
      "source": [
        "**Description:** <br>\n",
        "This scatter plot visualizes the relationship between `Daily Time Spent on Site` and `Daily Internet Usage`, with points color-coded based on whether the user clicked on an ad (0 = did not click, 1 = clicked).\n",
        "\n",
        "**TO DO:** Write your key insights below.\n",
        "> *  \n",
        "> *   \n",
        "\n",
        "**TO DO:** Give one or more actionable insights from the above visualization\n",
        "> *  \n",
        "> *   \n",
        "> *   "
      ],
      "metadata": {
        "id": "dHJgrqpggnsA"
      }
    },
    {
      "cell_type": "markdown",
      "source": [
        "# **Milestone 3: Predictive Modeling**\n",
        "---\n",
        "In this step, we will\n",
        "- encode categorical variables\n",
        "- select relevant features\n",
        "- split the data into train/test\n",
        "- scale the data\n",
        "- train and test the model\n",
        "- evaluate the model performance.\n"
      ],
      "metadata": {
        "id": "DGi1FfyAe9py"
      }
    },
    {
      "cell_type": "code",
      "source": [
        "# import the necessary libraries\n",
        "from sklearn.model_selection import train_test_split\n",
        "from sklearn.preprocessing import StandardScaler\n",
        "from sklearn.linear_model import LogisticRegression\n",
        "from sklearn.metrics import accuracy_score, confusion_matrix, classification_report"
      ],
      "metadata": {
        "id": "NFjvHnnofNlf"
      },
      "execution_count": null,
      "outputs": []
    },
    {
      "cell_type": "markdown",
      "source": [
        "### Copy, Select, Split & Scale"
      ],
      "metadata": {
        "id": "KZqBUCUqmFYp"
      }
    },
    {
      "cell_type": "markdown",
      "source": [
        "Before proceeding with any transformations, it's a good practice to create a copy of the original dataset, using `df.copy()`. This ensures that any changes (like one-hot encoding or feature extraction) won't affect the original data."
      ],
      "metadata": {
        "id": "st_P5eAajcte"
      }
    },
    {
      "cell_type": "code",
      "source": [
        "# creating a copy of the dataset so we don't change the original df structure in one-hot-encoding process\n",
        "df2 = df.____"
      ],
      "metadata": {
        "id": "9LAqc4Bvjb2G"
      },
      "execution_count": null,
      "outputs": []
    },
    {
      "cell_type": "markdown",
      "source": [
        "Categorical variables such as `'City'` and `'Country'` need to be converted into numerical representations for machine learning models. We use one-hot encoding to achieve this, which creates binary columns for each category. Learn more about One-Hot Encoding [here](https://www.geeksforgeeks.org/ml-one-hot-encoding/).\n",
        "\n",
        "This process converts each unique value in a categorical column into a new binary column. For example, if there are three cities (New York, Los Angeles, Chicago), three new columns will be created (City_New York, City_Los Angeles, City_Chicago), with 1 indicating the presence of that city and 0 otherwise.\n",
        "\n",
        "`drop_first=True`: This argument prevents multicollinearity by dropping one category from each set of dummy variables."
      ],
      "metadata": {
        "id": "WfJcnZFwjo-5"
      }
    },
    {
      "cell_type": "code",
      "source": [
        "# Encode categorical variables\n",
        "\n",
        "# TODO\n",
        "df2 = pd.get_dummies(df2, columns=['__column1__', '__column2__'], drop_first= ___)"
      ],
      "metadata": {
        "id": "zkxE8Fk3jt85"
      },
      "execution_count": null,
      "outputs": []
    },
    {
      "cell_type": "markdown",
      "source": [
        "Next, we **select the features** that will be used in our predictive model.\n",
        "\n",
        "And finally, we prepare the feature matrix **`X`** and target vector **`y`**."
      ],
      "metadata": {
        "id": "3KVW6f_TkGkW"
      }
    },
    {
      "cell_type": "code",
      "source": [
        "# Select features for modeling\n",
        "features = ['Daily Time Spent on Site', 'Age', 'Area Income', 'Daily Internet Usage', 'Hour', 'Day', 'Month'] + [col for col in df.columns if col.startswith(('City_', 'Country_'))]\n",
        "\n",
        "X = df2[features]\n",
        "y = df2['Clicked on Ad']"
      ],
      "metadata": {
        "id": "gKpWUj_2fX9C"
      },
      "execution_count": null,
      "outputs": []
    },
    {
      "cell_type": "markdown",
      "source": [
        "**Splitting the data:** <br>\n",
        "We use `train_test_split()` from the `sklearn.model_selection` module to split the data into training and testing sets. The `test_size` parameter should be set to `0.2`, meaning 20% of the data will be used for testing, while 80% will be used for training. A `random_state` is set to ensure reproducibility."
      ],
      "metadata": {
        "id": "fPxFKzCUlQSM"
      }
    },
    {
      "cell_type": "code",
      "source": [
        "# TODO\n",
        "# Split the data into training and testing sets\n",
        "\n",
        "X_train, X_test, y_train, y_test = train_test_split(X, y, test_size=___, random_state=42)"
      ],
      "metadata": {
        "id": "nRY2WKPKjB8Z"
      },
      "execution_count": null,
      "outputs": []
    },
    {
      "cell_type": "markdown",
      "source": [
        "**Scaling the data:** <br>\n",
        "Next, we scale the features using `StandardScaler` from `sklearn.preprocessing`. Standardization rescales the data so that each feature has a mean of `0` and a standard deviation of `1`. This is particularly important when using models that rely on distance metrics (e.g., logistic regression, k-nearest neighbors).\n",
        "\n",
        "Learn more about standardization [here](https://www.geeksforgeeks.org/what-is-standardization-in-machine-learning/)."
      ],
      "metadata": {
        "id": "xNuRYAVcltuz"
      }
    },
    {
      "cell_type": "code",
      "source": [
        "# TODO: Scale the features\n",
        "\n",
        "scaler = StandardScaler()\n",
        "X_train_scaled = scaler.fit_transform(_____)\n",
        "X_test_scaled = scaler.transform(_____)"
      ],
      "metadata": {
        "id": "_hWofqLkjIN8"
      },
      "execution_count": null,
      "outputs": []
    },
    {
      "cell_type": "markdown",
      "source": [
        "Now our data is ready for training and testing."
      ],
      "metadata": {
        "id": "i51NVqAcmQpl"
      }
    },
    {
      "cell_type": "markdown",
      "source": [
        "### Train and Test"
      ],
      "metadata": {
        "id": "skbBO69xmOb3"
      }
    },
    {
      "cell_type": "markdown",
      "source": [
        "Now, we use the `LogisticRegression` model to fit on our train data, and then make predictions on the test data using `model.predict`."
      ],
      "metadata": {
        "id": "nKjn96NZm4jv"
      }
    },
    {
      "cell_type": "code",
      "source": [
        "# Logistic Regression Model\n",
        "\n",
        "# TODO: Train logistic regression model\n",
        "lr_model = _______(random_state=42)\n",
        "lr_model.fit(______, ______)      # fill the parameters carefully\n",
        "\n",
        "# TODO: Make predictions\n",
        "y_pred = lr_model._______(_______)    # fill the parameters carefully"
      ],
      "metadata": {
        "id": "wO-8hQP6nRRG"
      },
      "execution_count": null,
      "outputs": []
    },
    {
      "cell_type": "markdown",
      "source": [
        "### Evaluation"
      ],
      "metadata": {
        "id": "yhEDJXJGnS6m"
      }
    },
    {
      "cell_type": "code",
      "source": [
        "# Evaluate the model\n",
        "\n",
        "# TODO: evaluate accuracy score\n",
        "print(\"Accuracy:\")\n",
        "______(____, ____)    # fill the parameters carefully"
      ],
      "metadata": {
        "id": "kb8dQ3BSfbZs"
      },
      "execution_count": null,
      "outputs": []
    },
    {
      "cell_type": "code",
      "source": [
        "# TODO: get confusion matrix\n",
        "\n",
        "print(\"Confusion Matrix:\")\n",
        "______(____, ____)"
      ],
      "metadata": {
        "id": "CdGqBNZDqiB-"
      },
      "execution_count": null,
      "outputs": []
    },
    {
      "cell_type": "code",
      "source": [
        "# TODO: get classification report\n",
        "\n",
        "print(\"Classification Report:\")\n",
        "______(____, ____)"
      ],
      "metadata": {
        "id": "eRoLVvoPqnsI"
      },
      "execution_count": null,
      "outputs": []
    },
    {
      "cell_type": "markdown",
      "source": [
        "**Reading the Evaluation:**\n",
        "\n",
        "**Accuracy:** <br>\n",
        "**TODO:** Write here\n",
        "\n",
        "<br>\n",
        "\n",
        "**Confusion Matrix:** <br>\n",
        "**TODO:** Write here\n",
        "\n",
        "\n",
        "<br>\n",
        "\n",
        "**Classification Report:** <br>\n",
        "**TODO:** Write here\n",
        "\n",
        "<br>\n",
        "\n",
        "**TODO:** Write conclusion here"
      ],
      "metadata": {
        "id": "_c01XfExnWEn"
      }
    },
    {
      "cell_type": "markdown",
      "source": [
        "### Feature Importance"
      ],
      "metadata": {
        "id": "atu6sLNXpNrD"
      }
    },
    {
      "cell_type": "markdown",
      "source": [
        "Based on the model training, we will find out which features hold the most importance in predicting the target variable."
      ],
      "metadata": {
        "id": "324S9h8fpQs_"
      }
    },
    {
      "cell_type": "code",
      "source": [
        "# Feature importance\n",
        "feature_importance = pd.DataFrame({'Feature': features, 'Importance': abs(lr_model.coef_[0])})\n",
        "feature_importance = feature_importance.sort_values('Importance', ascending=False)\n",
        "\n",
        "plt.figure(figsize=(12, 8))\n",
        "sns.barplot(x='Importance', y='Feature', data=feature_importance.head(5))\n",
        "plt.title('Top 5 Most Important Features')\n",
        "plt.show()"
      ],
      "metadata": {
        "id": "g2pqc2Y5fi38"
      },
      "execution_count": null,
      "outputs": []
    },
    {
      "cell_type": "markdown",
      "source": [
        "**TODO:** Share insights from the above chart\n",
        "> *  Answer here"
      ],
      "metadata": {
        "id": "Ffp-qcZKpaRD"
      }
    },
    {
      "cell_type": "markdown",
      "source": [
        "**TODO:** Why did we use Logistic regression? Was it a good decision?\n",
        "\n",
        "> *  Answer here"
      ],
      "metadata": {
        "id": "deDHvUtBtbKX"
      }
    },
    {
      "cell_type": "markdown",
      "source": [
        "<h3 align = 'center' >\n",
        "Thank you for completing the project!\n",
        "</h3>\n",
        "\n",
        "Please submit all materials to the NSDC HQ team at er3101@columbia.edu in order to receive a virtual certificate of completion. Do reach out to us if you have any questions or concerns. We are here to help you learn and grow."
      ],
      "metadata": {
        "id": "U7ANoNq5KGX5"
      }
    }
  ]
}